{
 "cells": [
  {
   "cell_type": "code",
   "execution_count": 55,
   "metadata": {},
   "outputs": [],
   "source": [
    "from prediction import predict_general\n",
    "import pandas as pd"
   ]
  },
  {
   "cell_type": "code",
   "execution_count": 58,
   "metadata": {},
   "outputs": [
    {
     "data": {
      "text/plain": [
       "25.935778498980483"
      ]
     },
     "execution_count": 58,
     "metadata": {},
     "output_type": "execute_result"
    }
   ],
   "source": [
    "dict_values={'Bookable': False,\n",
    " 'Longitude': -3.693348,\n",
    " 'Latitude': 40.43628,\n",
    " 'Cantidad_metodos_pago': 30,\n",
    " 'Reservas_today': 200,\n",
    " 'Reservas_last_week': 4000,\n",
    " 'Rate_Distinction': 3,\n",
    " 'Numero_fotos': 400,\n",
    " 'Is_Affiliated': True,\n",
    " 'Numero_awards': 1,\n",
    " 'Review_count': 200,\n",
    " 'Rating_count': 5000,\n",
    " 'Food_rating': 10,\n",
    " 'Service_rating': 10,\n",
    " 'Ambience_rating': 10,\n",
    " 'Tipo_comida': 'American',\n",
    " 'Provincia': 'vizcaya',\n",
    " 'Michelin numérico': 1}\n",
    "data_to_predict=pd.DataFrame(dict_values,index=[0])\n",
    "predict_general(data_to_predict)"
   ]
  }
 ],
 "metadata": {
  "kernelspec": {
   "display_name": "Python 3",
   "language": "python",
   "name": "python3"
  },
  "language_info": {
   "codemirror_mode": {
    "name": "ipython",
    "version": 3
   },
   "file_extension": ".py",
   "mimetype": "text/x-python",
   "name": "python",
   "nbconvert_exporter": "python",
   "pygments_lexer": "ipython3",
   "version": "3.7.4"
  }
 },
 "nbformat": 4,
 "nbformat_minor": 2
}
