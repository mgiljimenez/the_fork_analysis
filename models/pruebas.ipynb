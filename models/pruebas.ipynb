{
 "cells": [
  {
   "cell_type": "code",
   "execution_count": 11,
   "metadata": {},
   "outputs": [],
   "source": [
    "import pandas as pd\n",
    "import plotly.express as px\n",
    "import joblib"
   ]
  },
  {
   "cell_type": "code",
   "execution_count": 12,
   "metadata": {},
   "outputs": [],
   "source": [
    "data=pd.read_csv(\"../data_restaurantes_definitivo.csv\", sep=\";\", encoding=\"utf-8\")"
   ]
  },
  {
   "cell_type": "code",
   "execution_count": 13,
   "metadata": {},
   "outputs": [
    {
     "data": {
      "text/plain": [
       "Index(['Unnamed: 0', 'Michelin', 'Slug', 'Bookable', 'Street', 'ZipCode',\n",
       "       'Locality', 'Country', 'Longitude', 'Latitude', 'Cantidad_metodos_pago',\n",
       "       'Reservas_today', 'Reservas_last_week', 'Rate_Distinction',\n",
       "       'Numero_fotos', 'Is_Affiliated', 'Name', 'Average_Price',\n",
       "       'Numero_awards', 'Review_count', 'Rating_count', 'Food_rating',\n",
       "       'Service_rating', 'Ambience_rating', 'Tipo_comida', 'Provincia',\n",
       "       'Poblacion', 'Salario Medio Anual', 'comunidad_autonoma',\n",
       "       'Michelin numérico', 'Rate_Distinction_numérico'],\n",
       "      dtype='object')"
      ]
     },
     "execution_count": 13,
     "metadata": {},
     "output_type": "execute_result"
    }
   ],
   "source": [
    "data.columns"
   ]
  },
  {
   "cell_type": "markdown",
   "metadata": {},
   "source": [
    "Eliminación de columnas"
   ]
  },
  {
   "cell_type": "code",
   "execution_count": 14,
   "metadata": {},
   "outputs": [],
   "source": [
    "columnas_borrar=[\"Unnamed: 0\",\"Slug\",\"Street\",\"Locality\",\"Country\",\"Michelin\",\"Name\",\"Rate_Distinction_numérico\",\"comunidad_autonoma\",\"ZipCode\",\"Poblacion\",\"Salario Medio Anual\"]\n",
    "data.drop(columnas_borrar, axis=1, inplace=True)"
   ]
  },
  {
   "cell_type": "code",
   "execution_count": 15,
   "metadata": {},
   "outputs": [
    {
     "data": {
      "text/plain": [
       "Index(['Bookable', 'Longitude', 'Latitude', 'Cantidad_metodos_pago',\n",
       "       'Reservas_today', 'Reservas_last_week', 'Rate_Distinction',\n",
       "       'Numero_fotos', 'Is_Affiliated', 'Average_Price', 'Numero_awards',\n",
       "       'Review_count', 'Rating_count', 'Food_rating', 'Service_rating',\n",
       "       'Ambience_rating', 'Tipo_comida', 'Provincia', 'Michelin numérico'],\n",
       "      dtype='object')"
      ]
     },
     "execution_count": 15,
     "metadata": {},
     "output_type": "execute_result"
    }
   ],
   "source": [
    "data.columns"
   ]
  },
  {
   "cell_type": "markdown",
   "metadata": {},
   "source": [
    "Tratamiento de valores nulos"
   ]
  },
  {
   "cell_type": "code",
   "execution_count": 16,
   "metadata": {},
   "outputs": [],
   "source": [
    "ls_rate_distinction=[]\n",
    "exchange={\"Excellent\":3,\"Fabulous\":2,\"Very good\":1}\n",
    "for i in data[\"Rate_Distinction\"]:\n",
    "    if i in exchange.keys():\n",
    "        ls_rate_distinction.append(exchange[i])\n",
    "    else:\n",
    "        ls_rate_distinction.append(0)\n",
    "data[\"Rate_Distinction\"]=ls_rate_distinction"
   ]
  },
  {
   "cell_type": "code",
   "execution_count": 17,
   "metadata": {},
   "outputs": [],
   "source": [
    "# Imputamos la mediana a los valores nulos numéricos\n",
    "for i in data.columns:\n",
    "    if data[i].dtype==\"float64\":\n",
    "        data[i].fillna(data[i].median(), inplace=True)"
   ]
  },
  {
   "cell_type": "markdown",
   "metadata": {},
   "source": [
    "Recodificación de variables categóricas"
   ]
  },
  {
   "cell_type": "code",
   "execution_count": 18,
   "metadata": {},
   "outputs": [
    {
     "data": {
      "text/html": [
       "<div>\n",
       "<style scoped>\n",
       "    .dataframe tbody tr th:only-of-type {\n",
       "        vertical-align: middle;\n",
       "    }\n",
       "\n",
       "    .dataframe tbody tr th {\n",
       "        vertical-align: top;\n",
       "    }\n",
       "\n",
       "    .dataframe thead th {\n",
       "        text-align: right;\n",
       "    }\n",
       "</style>\n",
       "<table border=\"1\" class=\"dataframe\">\n",
       "  <thead>\n",
       "    <tr style=\"text-align: right;\">\n",
       "      <th></th>\n",
       "      <th>Bookable</th>\n",
       "      <th>Longitude</th>\n",
       "      <th>Latitude</th>\n",
       "      <th>Cantidad_metodos_pago</th>\n",
       "      <th>Reservas_today</th>\n",
       "      <th>Reservas_last_week</th>\n",
       "      <th>Rate_Distinction</th>\n",
       "      <th>Numero_fotos</th>\n",
       "      <th>Is_Affiliated</th>\n",
       "      <th>Average_Price</th>\n",
       "      <th>Numero_awards</th>\n",
       "      <th>Review_count</th>\n",
       "      <th>Rating_count</th>\n",
       "      <th>Food_rating</th>\n",
       "      <th>Service_rating</th>\n",
       "      <th>Ambience_rating</th>\n",
       "      <th>Tipo_comida</th>\n",
       "      <th>Provincia</th>\n",
       "      <th>Michelin numérico</th>\n",
       "    </tr>\n",
       "  </thead>\n",
       "  <tbody>\n",
       "    <tr>\n",
       "      <th>0</th>\n",
       "      <td>True</td>\n",
       "      <td>-3.693348</td>\n",
       "      <td>40.436288</td>\n",
       "      <td>5</td>\n",
       "      <td>0</td>\n",
       "      <td>32</td>\n",
       "      <td>3</td>\n",
       "      <td>17</td>\n",
       "      <td>True</td>\n",
       "      <td>125.0</td>\n",
       "      <td>1</td>\n",
       "      <td>255.0</td>\n",
       "      <td>479.0</td>\n",
       "      <td>9.7</td>\n",
       "      <td>9.9</td>\n",
       "      <td>9.5</td>\n",
       "      <td>Colombian</td>\n",
       "      <td>madrid</td>\n",
       "      <td>1</td>\n",
       "    </tr>\n",
       "    <tr>\n",
       "      <th>1</th>\n",
       "      <td>True</td>\n",
       "      <td>-3.692337</td>\n",
       "      <td>40.427143</td>\n",
       "      <td>7</td>\n",
       "      <td>0</td>\n",
       "      <td>115</td>\n",
       "      <td>3</td>\n",
       "      <td>14</td>\n",
       "      <td>True</td>\n",
       "      <td>23.0</td>\n",
       "      <td>0</td>\n",
       "      <td>3318.0</td>\n",
       "      <td>7977.0</td>\n",
       "      <td>9.3</td>\n",
       "      <td>9.5</td>\n",
       "      <td>9.3</td>\n",
       "      <td>Fusion</td>\n",
       "      <td>madrid</td>\n",
       "      <td>0</td>\n",
       "    </tr>\n",
       "    <tr>\n",
       "      <th>2</th>\n",
       "      <td>True</td>\n",
       "      <td>-3.685201</td>\n",
       "      <td>40.425980</td>\n",
       "      <td>3</td>\n",
       "      <td>7</td>\n",
       "      <td>57</td>\n",
       "      <td>3</td>\n",
       "      <td>8</td>\n",
       "      <td>True</td>\n",
       "      <td>30.0</td>\n",
       "      <td>0</td>\n",
       "      <td>24.0</td>\n",
       "      <td>99.0</td>\n",
       "      <td>9.0</td>\n",
       "      <td>9.3</td>\n",
       "      <td>9.1</td>\n",
       "      <td>Asian</td>\n",
       "      <td>madrid</td>\n",
       "      <td>0</td>\n",
       "    </tr>\n",
       "    <tr>\n",
       "      <th>3</th>\n",
       "      <td>True</td>\n",
       "      <td>-3.690170</td>\n",
       "      <td>40.428110</td>\n",
       "      <td>6</td>\n",
       "      <td>0</td>\n",
       "      <td>140</td>\n",
       "      <td>3</td>\n",
       "      <td>11</td>\n",
       "      <td>True</td>\n",
       "      <td>55.0</td>\n",
       "      <td>0</td>\n",
       "      <td>824.0</td>\n",
       "      <td>2590.0</td>\n",
       "      <td>9.6</td>\n",
       "      <td>9.3</td>\n",
       "      <td>9.4</td>\n",
       "      <td>Asian</td>\n",
       "      <td>madrid</td>\n",
       "      <td>0</td>\n",
       "    </tr>\n",
       "    <tr>\n",
       "      <th>4</th>\n",
       "      <td>True</td>\n",
       "      <td>-3.692898</td>\n",
       "      <td>40.454068</td>\n",
       "      <td>7</td>\n",
       "      <td>9</td>\n",
       "      <td>234</td>\n",
       "      <td>3</td>\n",
       "      <td>14</td>\n",
       "      <td>True</td>\n",
       "      <td>25.0</td>\n",
       "      <td>0</td>\n",
       "      <td>907.0</td>\n",
       "      <td>3047.0</td>\n",
       "      <td>9.1</td>\n",
       "      <td>9.3</td>\n",
       "      <td>9.2</td>\n",
       "      <td>Mexican</td>\n",
       "      <td>madrid</td>\n",
       "      <td>0</td>\n",
       "    </tr>\n",
       "    <tr>\n",
       "      <th>...</th>\n",
       "      <td>...</td>\n",
       "      <td>...</td>\n",
       "      <td>...</td>\n",
       "      <td>...</td>\n",
       "      <td>...</td>\n",
       "      <td>...</td>\n",
       "      <td>...</td>\n",
       "      <td>...</td>\n",
       "      <td>...</td>\n",
       "      <td>...</td>\n",
       "      <td>...</td>\n",
       "      <td>...</td>\n",
       "      <td>...</td>\n",
       "      <td>...</td>\n",
       "      <td>...</td>\n",
       "      <td>...</td>\n",
       "      <td>...</td>\n",
       "      <td>...</td>\n",
       "      <td>...</td>\n",
       "    </tr>\n",
       "    <tr>\n",
       "      <th>7603</th>\n",
       "      <td>True</td>\n",
       "      <td>-3.714279</td>\n",
       "      <td>40.423297</td>\n",
       "      <td>3</td>\n",
       "      <td>0</td>\n",
       "      <td>3</td>\n",
       "      <td>3</td>\n",
       "      <td>13</td>\n",
       "      <td>True</td>\n",
       "      <td>155.0</td>\n",
       "      <td>1</td>\n",
       "      <td>31.0</td>\n",
       "      <td>73.0</td>\n",
       "      <td>9.5</td>\n",
       "      <td>9.4</td>\n",
       "      <td>8.9</td>\n",
       "      <td>Mediterranean</td>\n",
       "      <td>madrid</td>\n",
       "      <td>1</td>\n",
       "    </tr>\n",
       "    <tr>\n",
       "      <th>7604</th>\n",
       "      <td>True</td>\n",
       "      <td>-3.671614</td>\n",
       "      <td>40.417718</td>\n",
       "      <td>5</td>\n",
       "      <td>2</td>\n",
       "      <td>41</td>\n",
       "      <td>3</td>\n",
       "      <td>17</td>\n",
       "      <td>True</td>\n",
       "      <td>22.0</td>\n",
       "      <td>0</td>\n",
       "      <td>2633.0</td>\n",
       "      <td>6059.0</td>\n",
       "      <td>9.4</td>\n",
       "      <td>9.3</td>\n",
       "      <td>9.1</td>\n",
       "      <td>Indian</td>\n",
       "      <td>madrid</td>\n",
       "      <td>0</td>\n",
       "    </tr>\n",
       "    <tr>\n",
       "      <th>7605</th>\n",
       "      <td>True</td>\n",
       "      <td>-3.700328</td>\n",
       "      <td>40.430676</td>\n",
       "      <td>7</td>\n",
       "      <td>11</td>\n",
       "      <td>139</td>\n",
       "      <td>3</td>\n",
       "      <td>14</td>\n",
       "      <td>True</td>\n",
       "      <td>22.0</td>\n",
       "      <td>0</td>\n",
       "      <td>99.0</td>\n",
       "      <td>301.0</td>\n",
       "      <td>9.0</td>\n",
       "      <td>9.0</td>\n",
       "      <td>9.0</td>\n",
       "      <td>International</td>\n",
       "      <td>madrid</td>\n",
       "      <td>0</td>\n",
       "    </tr>\n",
       "    <tr>\n",
       "      <th>7606</th>\n",
       "      <td>True</td>\n",
       "      <td>-3.689049</td>\n",
       "      <td>40.427816</td>\n",
       "      <td>4</td>\n",
       "      <td>1</td>\n",
       "      <td>2</td>\n",
       "      <td>2</td>\n",
       "      <td>36</td>\n",
       "      <td>True</td>\n",
       "      <td>40.0</td>\n",
       "      <td>0</td>\n",
       "      <td>18.0</td>\n",
       "      <td>72.0</td>\n",
       "      <td>8.6</td>\n",
       "      <td>8.9</td>\n",
       "      <td>8.4</td>\n",
       "      <td>French</td>\n",
       "      <td>madrid</td>\n",
       "      <td>0</td>\n",
       "    </tr>\n",
       "    <tr>\n",
       "      <th>7607</th>\n",
       "      <td>True</td>\n",
       "      <td>-3.689101</td>\n",
       "      <td>40.427889</td>\n",
       "      <td>4</td>\n",
       "      <td>1</td>\n",
       "      <td>7</td>\n",
       "      <td>3</td>\n",
       "      <td>21</td>\n",
       "      <td>True</td>\n",
       "      <td>140.0</td>\n",
       "      <td>0</td>\n",
       "      <td>12.0</td>\n",
       "      <td>56.0</td>\n",
       "      <td>9.6</td>\n",
       "      <td>9.5</td>\n",
       "      <td>9.0</td>\n",
       "      <td>French</td>\n",
       "      <td>madrid</td>\n",
       "      <td>1</td>\n",
       "    </tr>\n",
       "  </tbody>\n",
       "</table>\n",
       "<p>7608 rows × 19 columns</p>\n",
       "</div>"
      ],
      "text/plain": [
       "      Bookable  Longitude   Latitude  Cantidad_metodos_pago  Reservas_today  \\\n",
       "0         True  -3.693348  40.436288                      5               0   \n",
       "1         True  -3.692337  40.427143                      7               0   \n",
       "2         True  -3.685201  40.425980                      3               7   \n",
       "3         True  -3.690170  40.428110                      6               0   \n",
       "4         True  -3.692898  40.454068                      7               9   \n",
       "...        ...        ...        ...                    ...             ...   \n",
       "7603      True  -3.714279  40.423297                      3               0   \n",
       "7604      True  -3.671614  40.417718                      5               2   \n",
       "7605      True  -3.700328  40.430676                      7              11   \n",
       "7606      True  -3.689049  40.427816                      4               1   \n",
       "7607      True  -3.689101  40.427889                      4               1   \n",
       "\n",
       "      Reservas_last_week  Rate_Distinction  Numero_fotos  Is_Affiliated  \\\n",
       "0                     32                 3            17           True   \n",
       "1                    115                 3            14           True   \n",
       "2                     57                 3             8           True   \n",
       "3                    140                 3            11           True   \n",
       "4                    234                 3            14           True   \n",
       "...                  ...               ...           ...            ...   \n",
       "7603                   3                 3            13           True   \n",
       "7604                  41                 3            17           True   \n",
       "7605                 139                 3            14           True   \n",
       "7606                   2                 2            36           True   \n",
       "7607                   7                 3            21           True   \n",
       "\n",
       "      Average_Price  Numero_awards  Review_count  Rating_count  Food_rating  \\\n",
       "0             125.0              1         255.0         479.0          9.7   \n",
       "1              23.0              0        3318.0        7977.0          9.3   \n",
       "2              30.0              0          24.0          99.0          9.0   \n",
       "3              55.0              0         824.0        2590.0          9.6   \n",
       "4              25.0              0         907.0        3047.0          9.1   \n",
       "...             ...            ...           ...           ...          ...   \n",
       "7603          155.0              1          31.0          73.0          9.5   \n",
       "7604           22.0              0        2633.0        6059.0          9.4   \n",
       "7605           22.0              0          99.0         301.0          9.0   \n",
       "7606           40.0              0          18.0          72.0          8.6   \n",
       "7607          140.0              0          12.0          56.0          9.6   \n",
       "\n",
       "      Service_rating  Ambience_rating    Tipo_comida Provincia  \\\n",
       "0                9.9              9.5      Colombian    madrid   \n",
       "1                9.5              9.3         Fusion    madrid   \n",
       "2                9.3              9.1          Asian    madrid   \n",
       "3                9.3              9.4          Asian    madrid   \n",
       "4                9.3              9.2        Mexican    madrid   \n",
       "...              ...              ...            ...       ...   \n",
       "7603             9.4              8.9  Mediterranean    madrid   \n",
       "7604             9.3              9.1         Indian    madrid   \n",
       "7605             9.0              9.0  International    madrid   \n",
       "7606             8.9              8.4         French    madrid   \n",
       "7607             9.5              9.0         French    madrid   \n",
       "\n",
       "      Michelin numérico  \n",
       "0                     1  \n",
       "1                     0  \n",
       "2                     0  \n",
       "3                     0  \n",
       "4                     0  \n",
       "...                 ...  \n",
       "7603                  1  \n",
       "7604                  0  \n",
       "7605                  0  \n",
       "7606                  0  \n",
       "7607                  1  \n",
       "\n",
       "[7608 rows x 19 columns]"
      ]
     },
     "execution_count": 18,
     "metadata": {},
     "output_type": "execute_result"
    }
   ],
   "source": [
    "data"
   ]
  },
  {
   "cell_type": "markdown",
   "metadata": {},
   "source": [
    "MODELO 1"
   ]
  },
  {
   "cell_type": "code",
   "execution_count": 19,
   "metadata": {},
   "outputs": [
    {
     "name": "stdout",
     "output_type": "stream",
     "text": [
      "Mean Squared Error: 0.10762963461699149\n",
      "Root Mean Squared Error: 0.3280695575895324\n"
     ]
    },
    {
     "data": {
      "text/plain": [
       "['random_forest_model.pkl']"
      ]
     },
     "execution_count": 19,
     "metadata": {},
     "output_type": "execute_result"
    }
   ],
   "source": [
    "from sklearn.ensemble import RandomForestRegressor\n",
    "from sklearn.compose import ColumnTransformer\n",
    "from sklearn.preprocessing import OneHotEncoder\n",
    "from sklearn.pipeline import Pipeline\n",
    "from sklearn.model_selection import train_test_split\n",
    "import numpy as np\n",
    "\n",
    "df=data.copy()\n",
    "# Suponiendo que tienes un DataFrame llamado df con tus datos\n",
    "X = df.drop(columns=['Average_Price'])\n",
    "y = df['Average_Price']\n",
    "\n",
    "X_train, X_test, y_train, y_test = train_test_split(X, y, test_size=0.2, random_state=42)\n",
    "\n",
    "# Define el preprocesamiento\n",
    "preprocessor = ColumnTransformer(\n",
    "    transformers=[('cat', OneHotEncoder(handle_unknown='ignore'), ['Tipo_comida', 'Provincia'])] #, 'Poblacion'\n",
    ")\n",
    "\n",
    "# Define el pipeline\n",
    "pipeline = Pipeline([\n",
    "    ('preprocessor', preprocessor),\n",
    "    ('regressor', RandomForestRegressor())\n",
    "])\n",
    "\n",
    "# Entrena el modelo\n",
    "pipeline.fit(X_train, y_train)\n",
    "\n",
    "# Evalúa el modelo\n",
    "mse = pipeline.score(X_test, y_test)\n",
    "print(\"Mean Squared Error:\", mse)\n",
    "rmse = np.sqrt(mse)\n",
    "print(\"Root Mean Squared Error:\", rmse)\n",
    "\n",
    "joblib.dump(pipeline, 'random_forest_model.pkl')"
   ]
  },
  {
   "cell_type": "code",
   "execution_count": 20,
   "metadata": {},
   "outputs": [
    {
     "name": "stdout",
     "output_type": "stream",
     "text": [
      "Best parameters found:  {'regressor__max_depth': 30, 'regressor__min_samples_leaf': 4, 'regressor__min_samples_split': 10, 'regressor__n_estimators': 300}\n",
      "Best Mean Squared Error: 312.56428164702555\n",
      "Best Root Mean Squared Error: 17.679487595714576\n"
     ]
    },
    {
     "data": {
      "text/plain": [
       "['random_forest_model_best.pkl']"
      ]
     },
     "execution_count": 20,
     "metadata": {},
     "output_type": "execute_result"
    }
   ],
   "source": [
    "from sklearn.model_selection import GridSearchCV\n",
    "\n",
    "# Define el pipeline\n",
    "pipeline = Pipeline([\n",
    "    ('preprocessor', preprocessor),\n",
    "    ('regressor', RandomForestRegressor(random_state=42))\n",
    "])\n",
    "\n",
    "# Define los parámetros a ajustar\n",
    "param_grid = {\n",
    "    'regressor__n_estimators': [100, 200, 300],\n",
    "    'regressor__max_depth': [None, 10, 20, 30],\n",
    "    'regressor__min_samples_split': [2, 5, 10],\n",
    "    'regressor__min_samples_leaf': [1, 2, 4]\n",
    "}\n",
    "\n",
    "# Realiza la búsqueda de hiperparámetros\n",
    "grid_search = GridSearchCV(pipeline, param_grid, cv=5, scoring='neg_mean_squared_error', n_jobs=-1)\n",
    "grid_search.fit(X_train, y_train)\n",
    "\n",
    "# Imprime los mejores parámetros encontrados\n",
    "print(\"Best parameters found: \", grid_search.best_params_)\n",
    "\n",
    "# Evalúa el mejor modelo\n",
    "best_model = grid_search.best_estimator_\n",
    "mse = -grid_search.best_score_\n",
    "rmse = np.sqrt(mse)\n",
    "print(\"Best Mean Squared Error:\", mse)\n",
    "print(\"Best Root Mean Squared Error:\", rmse)\n",
    "\n",
    "# Guarda el mejor modelo\n",
    "import joblib\n",
    "joblib.dump(best_model, 'random_forest_model_best.pkl')\n"
   ]
  },
  {
   "cell_type": "code",
   "execution_count": 24,
   "metadata": {},
   "outputs": [
    {
     "data": {
      "text/plain": [
       "Index(['Bookable', 'Longitude', 'Latitude', 'Cantidad_metodos_pago',\n",
       "       'Reservas_today', 'Reservas_last_week', 'Rate_Distinction',\n",
       "       'Numero_fotos', 'Is_Affiliated', 'Numero_awards', 'Review_count',\n",
       "       'Rating_count', 'Food_rating', 'Service_rating', 'Ambience_rating',\n",
       "       'Tipo_comida', 'Provincia', 'Michelin numérico'],\n",
       "      dtype='object')"
      ]
     },
     "execution_count": 24,
     "metadata": {},
     "output_type": "execute_result"
    }
   ],
   "source": [
    "X.columns"
   ]
  },
  {
   "cell_type": "code",
   "execution_count": 27,
   "metadata": {},
   "outputs": [
    {
     "name": "stdout",
     "output_type": "stream",
     "text": [
      "                           Feature  Importance\n",
      "40              Tipo_comida_Fusion    0.098501\n",
      "72             Tipo_comida_Spanish    0.048629\n",
      "128              Provincia_vizcaya    0.048016\n",
      "4             Tipo_comida_American    0.046198\n",
      "50             Tipo_comida_Italian    0.045341\n",
      "..                             ...         ...\n",
      "62         Tipo_comida_Palestinian    0.000051\n",
      "39   Tipo_comida_From the Pyrenees    0.000029\n",
      "77             Tipo_comida_Tibetan    0.000025\n",
      "75              Tipo_comida_Syrian    0.000022\n",
      "70           Tipo_comida_Siciliano    0.000020\n",
      "\n",
      "[131 rows x 2 columns]\n"
     ]
    }
   ],
   "source": [
    "feature_importance = pipeline.named_steps['regressor'].feature_importances_\n",
    "\n",
    "# Obtener el nombre de las características después de la transformación\n",
    "encoded_feature_names = pipeline.named_steps['preprocessor'].transformers_[0][1].get_feature_names_out(input_features=['Tipo_comida', 'Provincia'])\n",
    "\n",
    "# Crear un DataFrame para visualizar la importancia de las características\n",
    "feature_importance_df = pd.DataFrame({'Feature': encoded_feature_names, 'Importance': feature_importance})\n",
    "\n",
    "# Ordenar el DataFrame por importancia en orden descendente\n",
    "feature_importance_df = feature_importance_df.sort_values(by='Importance', ascending=False)\n",
    "\n",
    "# Imprimir el DataFrame con la importancia de las características\n",
    "print(feature_importance_df)"
   ]
  },
  {
   "cell_type": "markdown",
   "metadata": {},
   "source": [
    "MODELO 2"
   ]
  },
  {
   "cell_type": "code",
   "execution_count": 32,
   "metadata": {},
   "outputs": [
    {
     "name": "stdout",
     "output_type": "stream",
     "text": [
      "Mean Squared Error: 0.08697328707900254\n"
     ]
    },
    {
     "data": {
      "text/plain": [
       "['xgboost_model.pkl']"
      ]
     },
     "execution_count": 32,
     "metadata": {},
     "output_type": "execute_result"
    }
   ],
   "source": [
    "from xgboost import XGBRegressor\n",
    "from sklearn.preprocessing import OrdinalEncoder\n",
    "\n",
    "df=data.copy()\n",
    "X = df.drop(columns=['Average_Price'])\n",
    "y = df['Average_Price']\n",
    "\n",
    "X_train, X_test, y_train, y_test = train_test_split(X, y, test_size=0.2, random_state=42)\n",
    "\n",
    "# Define el preprocesamiento\n",
    "preprocessor = ColumnTransformer(\n",
    "    transformers=[('cat', OrdinalEncoder(handle_unknown='use_encoded_value', unknown_value=-1), ['Tipo_comida', 'Provincia'])]\n",
    ")\n",
    "\n",
    "# Define el pipeline\n",
    "pipeline2 = Pipeline([\n",
    "    ('preprocessor', preprocessor),\n",
    "    ('regressor', XGBRegressor())\n",
    "])\n",
    "\n",
    "# Entrena el modelo\n",
    "pipeline2.fit(X_train, y_train)\n",
    "\n",
    "# Evalúa el modelo\n",
    "mse = pipeline2.score(X_test, y_test)\n",
    "print(\"Mean Squared Error:\", mse)\n",
    "joblib.dump(pipeline2, 'xgboost_model.pkl')\n"
   ]
  },
  {
   "cell_type": "markdown",
   "metadata": {},
   "source": [
    "MODELO 3"
   ]
  },
  {
   "cell_type": "code",
   "execution_count": 8,
   "metadata": {},
   "outputs": [],
   "source": [
    "import joblib"
   ]
  },
  {
   "cell_type": "code",
   "execution_count": 19,
   "metadata": {},
   "outputs": [
    {
     "name": "stdout",
     "output_type": "stream",
     "text": [
      "Mean Squared Error: 0.006463577559170264\n",
      "       Feature  Coefficient  Absolute_Coefficient\n",
      "0  Tipo_comida     0.002964              0.002964\n",
      "1    Provincia    -0.001894              0.001894\n"
     ]
    }
   ],
   "source": [
    "from sklearn.linear_model import LinearRegression\n",
    "from category_encoders import CountEncoder\n",
    "from sklearn.ensemble import RandomForestRegressor\n",
    "from sklearn.compose import ColumnTransformer\n",
    "from sklearn.preprocessing import OneHotEncoder\n",
    "from sklearn.pipeline import Pipeline\n",
    "from sklearn.model_selection import train_test_split\n",
    "import numpy as np\n",
    "\n",
    "\n",
    "# Define el preprocesamiento\n",
    "preprocessor = ColumnTransformer(\n",
    "    transformers=[('cat', CountEncoder(), ['Tipo_comida', 'Provincia'])]\n",
    ")\n",
    "\n",
    "# Define el pipeline\n",
    "pipeline3 = Pipeline([\n",
    "    ('preprocessor', preprocessor),\n",
    "    ('regressor', LinearRegression())\n",
    "])\n",
    "\n",
    "# Entrena el modelo\n",
    "pipeline3.fit(X_train, y_train)\n",
    "\n",
    "# Evalúa el modelo\n",
    "mse = pipeline3.score(X_test, y_test)\n",
    "print(\"Mean Squared Error:\", mse)\n",
    "joblib.dump(pipeline3, 'linear_regression_model.pkl')\n",
    "\n",
    "\n",
    "# Obtener los coeficientes de regresión del modelo de regresión lineal\n",
    "coefficients = pipeline3.named_steps['regressor'].coef_\n",
    "\n",
    "# Obtener el nombre de las características después de la transformación\n",
    "encoded_feature_names = pipeline3.named_steps['preprocessor'].transformers_[0][1].get_feature_names_out(input_features=['Tipo_comida', 'Provincia'])\n",
    "\n",
    "# Crear un DataFrame para visualizar los coeficientes de regresión\n",
    "coefficients_df = pd.DataFrame({'Feature': encoded_feature_names, 'Coefficient': coefficients})\n",
    "\n",
    "# Ordenar el DataFrame por coeficientes en valor absoluto en orden descendente\n",
    "coefficients_df['Absolute_Coefficient'] = abs(coefficients_df['Coefficient'])\n",
    "coefficients_df = coefficients_df.sort_values(by='Absolute_Coefficient', ascending=False)\n",
    "\n",
    "# Imprimir el DataFrame con los coeficientes de regresión\n",
    "print(coefficients_df)\n"
   ]
  },
  {
   "cell_type": "code",
   "execution_count": 32,
   "metadata": {},
   "outputs": [
    {
     "data": {
      "text/plain": [
       "22"
      ]
     },
     "execution_count": 32,
     "metadata": {},
     "output_type": "execute_result"
    }
   ],
   "source": [
    "len(X_train.columns)"
   ]
  },
  {
   "cell_type": "markdown",
   "metadata": {},
   "source": [
    "Guadar archivos como pkl"
   ]
  },
  {
   "cell_type": "code",
   "execution_count": null,
   "metadata": {},
   "outputs": [],
   "source": [
    "#MOdelo 1"
   ]
  },
  {
   "cell_type": "code",
   "execution_count": 36,
   "metadata": {},
   "outputs": [
    {
     "name": "stdout",
     "output_type": "stream",
     "text": [
      "Warning: No categorical columns found. Calling 'transform' will only return input data.\n"
     ]
    },
    {
     "data": {
      "text/plain": [
       "['linear_regression_model.pkl']"
      ]
     },
     "execution_count": 36,
     "metadata": {},
     "output_type": "execute_result"
    }
   ],
   "source": [
    "import joblib\n",
    "from sklearn.linear_model import LinearRegression\n",
    "from category_encoders import CountEncoder\n",
    "from sklearn.compose import ColumnTransformer\n",
    "from sklearn.pipeline import Pipeline\n",
    "\n",
    "# Define el preprocesamiento\n",
    "preprocessor = ColumnTransformer(\n",
    "    transformers=[('cat', CountEncoder(), ['Tipo_comida', 'Provincia', 'Poblacion', 'comunidad_autonoma'])]\n",
    ")\n",
    "\n",
    "# Define el pipeline\n",
    "pipeline = Pipeline([\n",
    "    ('preprocessor', preprocessor),\n",
    "    ('regressor', LinearRegression())\n",
    "])\n",
    "\n",
    "# Entrena el modelo\n",
    "pipeline.fit(X_train, y_train)\n",
    "\n",
    "# Guarda el modelo en un archivo pkl\n",
    "joblib.dump(pipeline, 'linear_regression_model.pkl')\n"
   ]
  },
  {
   "cell_type": "code",
   "execution_count": 92,
   "metadata": {},
   "outputs": [
    {
     "name": "stdout",
     "output_type": "stream",
     "text": [
      "Predicted value for the first row of X_train: 34.693974005943524\n"
     ]
    }
   ],
   "source": [
    "import joblib\n",
    "import pandas as pd\n",
    "\n",
    "# Función para cargar el modelo y predecir\n",
    "def load_model_and_predict3(input_data):\n",
    "    # Carga el modelo desde el archivo pkl\n",
    "    loaded_model = joblib.load('linear_regression_model.pkl')\n",
    "    \n",
    "    # Realiza la predicción\n",
    "    prediction = loaded_model.predict(input_data)\n",
    "    return prediction\n",
    "\n",
    "# Ejemplo de uso: predice el valor para la primera fila de X_train\n",
    "first_row = X_train.iloc[-4:-3]\n",
    "predicted_value = load_model_and_predict3(first_row)\n",
    "print(\"Predicted value for the first row of X_train:\", predicted_value[0])"
   ]
  },
  {
   "cell_type": "code",
   "execution_count": 76,
   "metadata": {},
   "outputs": [
    {
     "data": {
      "text/plain": [
       "['xgboost_model.pkl']"
      ]
     },
     "execution_count": 76,
     "metadata": {},
     "output_type": "execute_result"
    }
   ],
   "source": [
    "# modelo 2\n",
    "\n",
    "import joblib\n",
    "from xgboost import XGBRegressor\n",
    "from sklearn.preprocessing import OrdinalEncoder\n",
    "from sklearn.compose import ColumnTransformer\n",
    "from sklearn.pipeline import Pipeline\n",
    "\n",
    "# Define el preprocesamiento\n",
    "preprocessor = ColumnTransformer(\n",
    "    transformers=[('cat', OrdinalEncoder(handle_unknown='use_encoded_value', unknown_value=-1), ['Tipo_comida', 'Provincia', 'Poblacion', 'comunidad_autonoma'])]\n",
    ")\n",
    "\n",
    "# Define el pipeline\n",
    "pipeline2 = Pipeline([\n",
    "    ('preprocessor', preprocessor),\n",
    "    ('regressor', XGBRegressor())\n",
    "])\n",
    "\n",
    "# Entrena el modelo\n",
    "pipeline2.fit(X_train, y_train)\n",
    "\n",
    "# Guarda el modelo en un archivo pkl\n",
    "joblib.dump(pipeline2, 'xgboost_model.pkl')\n"
   ]
  },
  {
   "cell_type": "code",
   "execution_count": 77,
   "metadata": {},
   "outputs": [
    {
     "name": "stdout",
     "output_type": "stream",
     "text": [
      "Predicted value for the first row of X_train: [16.781967 33.83176  21.931383 21.070848 32.30745 ]\n"
     ]
    }
   ],
   "source": [
    "import joblib\n",
    "import pandas as pd\n",
    "\n",
    "# Función para cargar el modelo y predecir\n",
    "def load_model_and_predict2(input_data):\n",
    "    # Carga el modelo desde el archivo pkl\n",
    "    loaded_model = joblib.load('xgboost_model.pkl')\n",
    "    \n",
    "    # Realiza la predicción\n",
    "    prediction = loaded_model.predict(input_data)\n",
    "    return prediction\n",
    "\n",
    "# Ejemplo de uso: predice el valor para la primera fila de X_train\n",
    "first_row = X_train.iloc[:5]\n",
    "predicted_value = load_model_and_predict2(first_row)\n",
    "print(\"Predicted value for the first row of X_train:\", predicted_value)\n"
   ]
  },
  {
   "cell_type": "code",
   "execution_count": 69,
   "metadata": {},
   "outputs": [
    {
     "data": {
      "text/plain": [
       "2644    25.0\n",
       "2227    20.0\n",
       "5698    25.0\n",
       "132     25.0\n",
       "3172    18.0\n",
       "        ... \n",
       "5924    19.0\n",
       "1835    20.0\n",
       "506     25.0\n",
       "3590    14.0\n",
       "5313    26.0\n",
       "Name: Average_Price, Length: 1522, dtype: float64"
      ]
     },
     "execution_count": 69,
     "metadata": {},
     "output_type": "execute_result"
    }
   ],
   "source": [
    "y_test"
   ]
  },
  {
   "cell_type": "code",
   "execution_count": 70,
   "metadata": {},
   "outputs": [
    {
     "data": {
      "text/plain": [
       "['random_forest_model.pkl']"
      ]
     },
     "execution_count": 70,
     "metadata": {},
     "output_type": "execute_result"
    }
   ],
   "source": [
    "# modelo 1\n",
    "\n",
    "import joblib\n",
    "from sklearn.ensemble import RandomForestRegressor\n",
    "from sklearn.compose import ColumnTransformer\n",
    "from sklearn.preprocessing import OneHotEncoder\n",
    "from sklearn.pipeline import Pipeline\n",
    "from sklearn.model_selection import train_test_split\n",
    "import numpy as np\n",
    "\n",
    "# Suponiendo que tienes un DataFrame llamado df con tus datos\n",
    "df = data.copy()\n",
    "X = df.drop(columns=['Average_Price'])\n",
    "y = df['Average_Price']\n",
    "\n",
    "X_train, X_test, y_train, y_test = train_test_split(X, y, test_size=0.2, random_state=42)\n",
    "\n",
    "# Define el preprocesamiento\n",
    "preprocessor = ColumnTransformer(\n",
    "    transformers=[('cat', OneHotEncoder(handle_unknown='ignore'), ['Tipo_comida', 'Provincia', 'Poblacion', 'comunidad_autonoma'])]\n",
    ")\n",
    "\n",
    "# Define el pipeline\n",
    "pipeline = Pipeline([\n",
    "    ('preprocessor', preprocessor),\n",
    "    ('regressor', RandomForestRegressor())\n",
    "])\n",
    "\n",
    "# Entrena el modelo\n",
    "pipeline.fit(X_train, y_train)\n",
    "\n",
    "# Guarda el modelo en un archivo pkl\n",
    "joblib.dump(pipeline, 'random_forest_model.pkl')\n"
   ]
  },
  {
   "cell_type": "code",
   "execution_count": 82,
   "metadata": {},
   "outputs": [
    {
     "name": "stdout",
     "output_type": "stream",
     "text": [
      "Predicted value for the first row of X_train: [16.59431885]\n"
     ]
    }
   ],
   "source": [
    "import joblib\n",
    "import pandas as pd\n",
    "\n",
    "# Función para cargar el modelo y predecir\n",
    "def load_model_and_predict1(input_data):\n",
    "    # Carga el modelo desde el archivo pkl\n",
    "    loaded_model = joblib.load('random_forest_model.pkl')\n",
    "    \n",
    "    # Realiza la predicción\n",
    "    prediction = loaded_model.predict(input_data)\n",
    "    return prediction\n",
    "\n",
    "# Ejemplo de uso: predice el valor para la primera fila de X_train\n",
    "first_row = X_train.iloc[0:1]\n",
    "predicted_value = load_model_and_predict1(first_row)\n",
    "print(\"Predicted value for the first row of X_train:\", predicted_value)\n"
   ]
  },
  {
   "cell_type": "code",
   "execution_count": 86,
   "metadata": {},
   "outputs": [],
   "source": [
    "def predict_general(input_data):\n",
    "    p1=load_model_and_predict1(input_data)[0]\n",
    "    p2=load_model_and_predict2(input_data)[0]\n",
    "    p3=load_model_and_predict3(input_data)[0]\n",
    "    \n",
    "    return np.mean([p1,p2,p3])"
   ]
  },
  {
   "cell_type": "code",
   "execution_count": 85,
   "metadata": {},
   "outputs": [
    {
     "data": {
      "text/plain": [
       "16.594318852324395"
      ]
     },
     "execution_count": 85,
     "metadata": {},
     "output_type": "execute_result"
    }
   ],
   "source": [
    "load_model_and_predict1(first_row)[0]"
   ]
  },
  {
   "cell_type": "code",
   "execution_count": 95,
   "metadata": {},
   "outputs": [
    {
     "name": "stdout",
     "output_type": "stream",
     "text": [
      "Predicted value for the first row of X_train: 19.758642244582457\n",
      "Predicted value for the first row of X_train: 32.61540858598364\n",
      "Predicted value for the first row of X_train: 23.630801410889855\n",
      "Predicted value for the first row of X_train: 23.963628271498177\n",
      "Predicted value for the first row of X_train: 30.08532201909536\n"
     ]
    }
   ],
   "source": [
    "for i in range(5):\n",
    "    first_row = X_train.iloc[i:i+1]\n",
    "    print(\"Predicted value for the first row of X_train:\", predict_general(first_row))"
   ]
  },
  {
   "cell_type": "code",
   "execution_count": 1,
   "metadata": {},
   "outputs": [
    {
     "ename": "NameError",
     "evalue": "name 'y_test' is not defined",
     "output_type": "error",
     "traceback": [
      "\u001b[1;31m---------------------------------------------------------------------------\u001b[0m",
      "\u001b[1;31mNameError\u001b[0m                                 Traceback (most recent call last)",
      "\u001b[1;32m~\\AppData\\Local\\Temp\\ipykernel_23384\\4075987148.py\u001b[0m in \u001b[0;36m<module>\u001b[1;34m\u001b[0m\n\u001b[1;32m----> 1\u001b[1;33m \u001b[0my_test\u001b[0m\u001b[1;33m\u001b[0m\u001b[1;33m\u001b[0m\u001b[0m\n\u001b[0m",
      "\u001b[1;31mNameError\u001b[0m: name 'y_test' is not defined"
     ]
    }
   ],
   "source": [
    "y_test"
   ]
  }
 ],
 "metadata": {
  "kernelspec": {
   "display_name": "Python 3",
   "language": "python",
   "name": "python3"
  },
  "language_info": {
   "codemirror_mode": {
    "name": "ipython",
    "version": 3
   },
   "file_extension": ".py",
   "mimetype": "text/x-python",
   "name": "python",
   "nbconvert_exporter": "python",
   "pygments_lexer": "ipython3",
   "version": "3.7.4"
  }
 },
 "nbformat": 4,
 "nbformat_minor": 2
}
