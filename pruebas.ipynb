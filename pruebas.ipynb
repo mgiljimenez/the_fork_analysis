{
 "cells": [
  {
   "cell_type": "code",
   "execution_count": 26,
   "metadata": {},
   "outputs": [],
   "source": [
    "import pandas as pd\n",
    "from webconfig import tipos_comida_chart\n",
    "import plotly.express as px"
   ]
  },
  {
   "cell_type": "code",
   "execution_count": null,
   "metadata": {},
   "outputs": [],
   "source": [
    "\"Potencial estrella Michelin\"\n",
    "\"Provincia\"\n",
    "\"Reservas_today\"\n",
    "\"Reservas_last_week\"\n",
    "\"Rate_Distinction\"\n",
    "\"Numero_awards\"\n",
    "\"Review_count\"\n",
    "\"Rating_count\"\n",
    "\"Food_rating\"\n",
    "\"Service_rating\"\n",
    "\"Ambience_rating\"\n",
    "\"Tipo_comida\""
   ]
  },
  {
   "cell_type": "code",
   "execution_count": 37,
   "metadata": {},
   "outputs": [
    {
     "data": {
      "text/plain": [
       "Index(['Unnamed: 0', 'Michelin', 'Slug', 'Bookable', 'Street', 'ZipCode',\n",
       "       'Locality', 'Country', 'Longitude', 'Latitude', 'Cantidad_metodos_pago',\n",
       "       'Reservas_today', 'Reservas_last_week', 'Rate_Distinction',\n",
       "       'Numero_fotos', 'Is_Affiliated', 'Name', 'Average_Price',\n",
       "       'Numero_awards', 'Review_count', 'Rating_count', 'Food_rating',\n",
       "       'Service_rating', 'Ambience_rating', 'Tipo_comida', 'Provincia',\n",
       "       'Poblacion', 'Salario Medio Anual'],\n",
       "      dtype='object')"
      ]
     },
     "execution_count": 37,
     "metadata": {},
     "output_type": "execute_result"
    }
   ],
   "source": [
    "data.columns"
   ]
  },
  {
   "cell_type": "code",
   "execution_count": 27,
   "metadata": {},
   "outputs": [],
   "source": [
    "data=pd.read_csv(\"./data_restaurantes_final.csv\", sep=\";\", encoding=\"utf-8\")"
   ]
  },
  {
   "cell_type": "code",
   "execution_count": 39,
   "metadata": {},
   "outputs": [],
   "source": [
    "data_raw=data[[\"Michelin\",\"Provincia\",\"Reservas_today\",\n",
    "\"Reservas_last_week\",\n",
    "\"Rate_Distinction\",\n",
    "\"Numero_awards\",\n",
    "\"Review_count\",\n",
    "\"Rating_count\",\n",
    "\"Food_rating\",\n",
    "\"Service_rating\",\n",
    "\"Ambience_rating\",\n",
    "\"Tipo_comida\",\"Average_Price\"]]"
   ]
  },
  {
   "cell_type": "code",
   "execution_count": 42,
   "metadata": {},
   "outputs": [],
   "source": [
    "import seaborn as sns"
   ]
  },
  {
   "cell_type": "code",
   "execution_count": 44,
   "metadata": {},
   "outputs": [
    {
     "data": {
      "text/html": [
       "<div>\n",
       "<style scoped>\n",
       "    .dataframe tbody tr th:only-of-type {\n",
       "        vertical-align: middle;\n",
       "    }\n",
       "\n",
       "    .dataframe tbody tr th {\n",
       "        vertical-align: top;\n",
       "    }\n",
       "\n",
       "    .dataframe thead th {\n",
       "        text-align: right;\n",
       "    }\n",
       "</style>\n",
       "<table border=\"1\" class=\"dataframe\">\n",
       "  <thead>\n",
       "    <tr style=\"text-align: right;\">\n",
       "      <th></th>\n",
       "      <th>Michelin</th>\n",
       "      <th>Reservas_today</th>\n",
       "      <th>Reservas_last_week</th>\n",
       "      <th>Numero_awards</th>\n",
       "      <th>Review_count</th>\n",
       "      <th>Rating_count</th>\n",
       "      <th>Food_rating</th>\n",
       "      <th>Service_rating</th>\n",
       "      <th>Ambience_rating</th>\n",
       "      <th>Average_Price</th>\n",
       "    </tr>\n",
       "  </thead>\n",
       "  <tbody>\n",
       "    <tr>\n",
       "      <th>Michelin</th>\n",
       "      <td>1.000000</td>\n",
       "      <td>0.018751</td>\n",
       "      <td>0.066525</td>\n",
       "      <td>0.605361</td>\n",
       "      <td>-0.017036</td>\n",
       "      <td>-0.017596</td>\n",
       "      <td>0.192167</td>\n",
       "      <td>0.166421</td>\n",
       "      <td>0.172832</td>\n",
       "      <td>0.591766</td>\n",
       "    </tr>\n",
       "    <tr>\n",
       "      <th>Reservas_today</th>\n",
       "      <td>0.018751</td>\n",
       "      <td>1.000000</td>\n",
       "      <td>0.865269</td>\n",
       "      <td>-0.000119</td>\n",
       "      <td>0.295613</td>\n",
       "      <td>0.338296</td>\n",
       "      <td>0.025683</td>\n",
       "      <td>0.002903</td>\n",
       "      <td>0.074018</td>\n",
       "      <td>0.054782</td>\n",
       "    </tr>\n",
       "    <tr>\n",
       "      <th>Reservas_last_week</th>\n",
       "      <td>0.066525</td>\n",
       "      <td>0.865269</td>\n",
       "      <td>1.000000</td>\n",
       "      <td>0.028885</td>\n",
       "      <td>0.365541</td>\n",
       "      <td>0.419777</td>\n",
       "      <td>0.085524</td>\n",
       "      <td>0.046824</td>\n",
       "      <td>0.132807</td>\n",
       "      <td>0.088026</td>\n",
       "    </tr>\n",
       "    <tr>\n",
       "      <th>Numero_awards</th>\n",
       "      <td>0.605361</td>\n",
       "      <td>-0.000119</td>\n",
       "      <td>0.028885</td>\n",
       "      <td>1.000000</td>\n",
       "      <td>-0.021922</td>\n",
       "      <td>-0.023533</td>\n",
       "      <td>0.146486</td>\n",
       "      <td>0.135440</td>\n",
       "      <td>0.134577</td>\n",
       "      <td>0.545974</td>\n",
       "    </tr>\n",
       "    <tr>\n",
       "      <th>Review_count</th>\n",
       "      <td>-0.017036</td>\n",
       "      <td>0.295613</td>\n",
       "      <td>0.365541</td>\n",
       "      <td>-0.021922</td>\n",
       "      <td>1.000000</td>\n",
       "      <td>0.984890</td>\n",
       "      <td>0.090183</td>\n",
       "      <td>0.071444</td>\n",
       "      <td>0.101202</td>\n",
       "      <td>0.012273</td>\n",
       "    </tr>\n",
       "    <tr>\n",
       "      <th>Rating_count</th>\n",
       "      <td>-0.017596</td>\n",
       "      <td>0.338296</td>\n",
       "      <td>0.419777</td>\n",
       "      <td>-0.023533</td>\n",
       "      <td>0.984890</td>\n",
       "      <td>1.000000</td>\n",
       "      <td>0.087261</td>\n",
       "      <td>0.062839</td>\n",
       "      <td>0.102053</td>\n",
       "      <td>0.006064</td>\n",
       "    </tr>\n",
       "    <tr>\n",
       "      <th>Food_rating</th>\n",
       "      <td>0.192167</td>\n",
       "      <td>0.025683</td>\n",
       "      <td>0.085524</td>\n",
       "      <td>0.146486</td>\n",
       "      <td>0.090183</td>\n",
       "      <td>0.087261</td>\n",
       "      <td>1.000000</td>\n",
       "      <td>0.829415</td>\n",
       "      <td>0.787455</td>\n",
       "      <td>0.217841</td>\n",
       "    </tr>\n",
       "    <tr>\n",
       "      <th>Service_rating</th>\n",
       "      <td>0.166421</td>\n",
       "      <td>0.002903</td>\n",
       "      <td>0.046824</td>\n",
       "      <td>0.135440</td>\n",
       "      <td>0.071444</td>\n",
       "      <td>0.062839</td>\n",
       "      <td>0.829415</td>\n",
       "      <td>1.000000</td>\n",
       "      <td>0.790370</td>\n",
       "      <td>0.198062</td>\n",
       "    </tr>\n",
       "    <tr>\n",
       "      <th>Ambience_rating</th>\n",
       "      <td>0.172832</td>\n",
       "      <td>0.074018</td>\n",
       "      <td>0.132807</td>\n",
       "      <td>0.134577</td>\n",
       "      <td>0.101202</td>\n",
       "      <td>0.102053</td>\n",
       "      <td>0.787455</td>\n",
       "      <td>0.790370</td>\n",
       "      <td>1.000000</td>\n",
       "      <td>0.258650</td>\n",
       "    </tr>\n",
       "    <tr>\n",
       "      <th>Average_Price</th>\n",
       "      <td>0.591766</td>\n",
       "      <td>0.054782</td>\n",
       "      <td>0.088026</td>\n",
       "      <td>0.545974</td>\n",
       "      <td>0.012273</td>\n",
       "      <td>0.006064</td>\n",
       "      <td>0.217841</td>\n",
       "      <td>0.198062</td>\n",
       "      <td>0.258650</td>\n",
       "      <td>1.000000</td>\n",
       "    </tr>\n",
       "  </tbody>\n",
       "</table>\n",
       "</div>"
      ],
      "text/plain": [
       "                    Michelin  Reservas_today  Reservas_last_week  \\\n",
       "Michelin            1.000000        0.018751            0.066525   \n",
       "Reservas_today      0.018751        1.000000            0.865269   \n",
       "Reservas_last_week  0.066525        0.865269            1.000000   \n",
       "Numero_awards       0.605361       -0.000119            0.028885   \n",
       "Review_count       -0.017036        0.295613            0.365541   \n",
       "Rating_count       -0.017596        0.338296            0.419777   \n",
       "Food_rating         0.192167        0.025683            0.085524   \n",
       "Service_rating      0.166421        0.002903            0.046824   \n",
       "Ambience_rating     0.172832        0.074018            0.132807   \n",
       "Average_Price       0.591766        0.054782            0.088026   \n",
       "\n",
       "                    Numero_awards  Review_count  Rating_count  Food_rating  \\\n",
       "Michelin                 0.605361     -0.017036     -0.017596     0.192167   \n",
       "Reservas_today          -0.000119      0.295613      0.338296     0.025683   \n",
       "Reservas_last_week       0.028885      0.365541      0.419777     0.085524   \n",
       "Numero_awards            1.000000     -0.021922     -0.023533     0.146486   \n",
       "Review_count            -0.021922      1.000000      0.984890     0.090183   \n",
       "Rating_count            -0.023533      0.984890      1.000000     0.087261   \n",
       "Food_rating              0.146486      0.090183      0.087261     1.000000   \n",
       "Service_rating           0.135440      0.071444      0.062839     0.829415   \n",
       "Ambience_rating          0.134577      0.101202      0.102053     0.787455   \n",
       "Average_Price            0.545974      0.012273      0.006064     0.217841   \n",
       "\n",
       "                    Service_rating  Ambience_rating  Average_Price  \n",
       "Michelin                  0.166421         0.172832       0.591766  \n",
       "Reservas_today            0.002903         0.074018       0.054782  \n",
       "Reservas_last_week        0.046824         0.132807       0.088026  \n",
       "Numero_awards             0.135440         0.134577       0.545974  \n",
       "Review_count              0.071444         0.101202       0.012273  \n",
       "Rating_count              0.062839         0.102053       0.006064  \n",
       "Food_rating               0.829415         0.787455       0.217841  \n",
       "Service_rating            1.000000         0.790370       0.198062  \n",
       "Ambience_rating           0.790370         1.000000       0.258650  \n",
       "Average_Price             0.198062         0.258650       1.000000  "
      ]
     },
     "execution_count": 44,
     "metadata": {},
     "output_type": "execute_result"
    }
   ],
   "source": [
    "data_raw.corr()"
   ]
  },
  {
   "cell_type": "code",
   "execution_count": 69,
   "metadata": {},
   "outputs": [
    {
     "data": {
      "text/plain": [
       "Numero_awards            0.545974\n",
       "Ambience_rating          0.258650\n",
       "Food_rating              0.217841\n",
       "Service_rating           0.198062\n",
       "Reservas_last_week       0.088026\n",
       "Unnamed: 0               0.083090\n",
       "Latitude                 0.071723\n",
       "Reservas_today           0.054782\n",
       "Salario Medio Anual      0.031158\n",
       "Longitude                0.017798\n",
       "Review_count             0.012273\n",
       "Rating_count             0.006064\n",
       "Numero_fotos             0.000406\n",
       "ZipCode                 -0.010241\n",
       "Cantidad_metodos_pago   -0.053014\n",
       "Poblacion               -0.067776\n",
       "Name: Average_Price, dtype: float64"
      ]
     },
     "execution_count": 69,
     "metadata": {},
     "output_type": "execute_result"
    }
   ],
   "source": [
    "numeric_columns=data.select_dtypes(include=['float64', 'int64'])\n",
    "numeric_columns.corr()[\"Average_Price\"].sort_values(ascending=False).drop(\"Average_Price\")"
   ]
  },
  {
   "cell_type": "code",
   "execution_count": 65,
   "metadata": {},
   "outputs": [],
   "source": []
  },
  {
   "cell_type": "code",
   "execution_count": 62,
   "metadata": {},
   "outputs": [],
   "source": [
    "def corr_bar(data):\n",
    "    numeric_columns = data.select_dtypes(include=['float64', 'int64'])\n",
    "    correlation_series = numeric_columns.corr()[\"Average_Price\"].sort_values(ascending=False)\n",
    "    \n",
    "    # Creamos un DataFrame con los resultados\n",
    "    correlation_df = pd.DataFrame(correlation_series, columns=[\"Average_Price\"])\n",
    "    print(correlation_df)\n",
    "    # Creamos el gráfico de barras horizontales con Plotly Express\n",
    "    fig = px.bar(correlation_df, x=correlation_df.index, y=\"Average_Price\", orientation=\"v\",\n",
    "                title=\"Correlación con Average_Price\")\n",
    "    fig.update_traces(marker_color='rgb(158,202,225)', marker_line_color='rgb(8,48,107)',\n",
    "                    marker_line_width=1.5, opacity=0.6)\n",
    "    # Mostramos el gráfico en Streamlit\n",
    "    return fig"
   ]
  },
  {
   "cell_type": "code",
   "execution_count": 63,
   "metadata": {},
   "outputs": [
    {
     "name": "stdout",
     "output_type": "stream",
     "text": [
      "                    Average_Price\n",
      "Average_Price            1.000000\n",
      "Numero_awards            0.545974\n",
      "Ambience_rating          0.258650\n",
      "Food_rating              0.217841\n",
      "Service_rating           0.198062\n",
      "Reservas_last_week       0.088026\n",
      "Reservas_today           0.054782\n",
      "Review_count             0.012273\n",
      "Rating_count             0.006064\n"
     ]
    },
    {
     "data": {
      "application/vnd.plotly.v1+json": {
       "config": {
        "plotlyServerURL": "https://plot.ly"
       },
       "data": [
        {
         "alignmentgroup": "True",
         "hovertemplate": "index=%{x}<br>Average_Price=%{y}<extra></extra>",
         "legendgroup": "",
         "marker": {
          "color": "rgb(158,202,225)",
          "line": {
           "color": "rgb(8,48,107)",
           "width": 1.5
          },
          "pattern": {
           "shape": ""
          }
         },
         "name": "",
         "offsetgroup": "",
         "opacity": 0.6,
         "orientation": "v",
         "showlegend": false,
         "textposition": "auto",
         "type": "bar",
         "x": [
          "Average_Price",
          "Numero_awards",
          "Ambience_rating",
          "Food_rating",
          "Service_rating",
          "Reservas_last_week",
          "Reservas_today",
          "Review_count",
          "Rating_count"
         ],
         "xaxis": "x",
         "y": [
          1,
          0.545973914362551,
          0.25865001038995133,
          0.21784111802544764,
          0.19806195920099098,
          0.08802625999563221,
          0.05478220020258642,
          0.012272668082484362,
          0.006063838882413404
         ],
         "yaxis": "y"
        }
       ],
       "layout": {
        "barmode": "relative",
        "legend": {
         "tracegroupgap": 0
        },
        "template": {
         "data": {
          "candlestick": [
           {
            "decreasing": {
             "line": {
              "color": "#000033"
             }
            },
            "increasing": {
             "line": {
              "color": "#000032"
             }
            },
            "type": "candlestick"
           }
          ],
          "contour": [
           {
            "colorscale": [
             [
              0,
              "#000011"
             ],
             [
              0.1111111111111111,
              "#000012"
             ],
             [
              0.2222222222222222,
              "#000013"
             ],
             [
              0.3333333333333333,
              "#000014"
             ],
             [
              0.4444444444444444,
              "#000015"
             ],
             [
              0.5555555555555556,
              "#000016"
             ],
             [
              0.6666666666666666,
              "#000017"
             ],
             [
              0.7777777777777778,
              "#000018"
             ],
             [
              0.8888888888888888,
              "#000019"
             ],
             [
              1,
              "#000020"
             ]
            ],
            "type": "contour"
           }
          ],
          "contourcarpet": [
           {
            "colorscale": [
             [
              0,
              "#000011"
             ],
             [
              0.1111111111111111,
              "#000012"
             ],
             [
              0.2222222222222222,
              "#000013"
             ],
             [
              0.3333333333333333,
              "#000014"
             ],
             [
              0.4444444444444444,
              "#000015"
             ],
             [
              0.5555555555555556,
              "#000016"
             ],
             [
              0.6666666666666666,
              "#000017"
             ],
             [
              0.7777777777777778,
              "#000018"
             ],
             [
              0.8888888888888888,
              "#000019"
             ],
             [
              1,
              "#000020"
             ]
            ],
            "type": "contourcarpet"
           }
          ],
          "heatmap": [
           {
            "colorscale": [
             [
              0,
              "#000011"
             ],
             [
              0.1111111111111111,
              "#000012"
             ],
             [
              0.2222222222222222,
              "#000013"
             ],
             [
              0.3333333333333333,
              "#000014"
             ],
             [
              0.4444444444444444,
              "#000015"
             ],
             [
              0.5555555555555556,
              "#000016"
             ],
             [
              0.6666666666666666,
              "#000017"
             ],
             [
              0.7777777777777778,
              "#000018"
             ],
             [
              0.8888888888888888,
              "#000019"
             ],
             [
              1,
              "#000020"
             ]
            ],
            "type": "heatmap"
           }
          ],
          "histogram2d": [
           {
            "colorscale": [
             [
              0,
              "#000011"
             ],
             [
              0.1111111111111111,
              "#000012"
             ],
             [
              0.2222222222222222,
              "#000013"
             ],
             [
              0.3333333333333333,
              "#000014"
             ],
             [
              0.4444444444444444,
              "#000015"
             ],
             [
              0.5555555555555556,
              "#000016"
             ],
             [
              0.6666666666666666,
              "#000017"
             ],
             [
              0.7777777777777778,
              "#000018"
             ],
             [
              0.8888888888888888,
              "#000019"
             ],
             [
              1,
              "#000020"
             ]
            ],
            "type": "histogram2d"
           }
          ],
          "icicle": [
           {
            "textfont": {
             "color": "white"
            },
            "type": "icicle"
           }
          ],
          "sankey": [
           {
            "textfont": {
             "color": "#000036"
            },
            "type": "sankey"
           }
          ],
          "scatter": [
           {
            "marker": {
             "line": {
              "width": 0
             }
            },
            "type": "scatter"
           }
          ],
          "table": [
           {
            "cells": {
             "fill": {
              "color": "#000038"
             },
             "font": {
              "color": "#000037"
             },
             "line": {
              "color": "#000039"
             }
            },
            "header": {
             "fill": {
              "color": "#000040"
             },
             "font": {
              "color": "#000036"
             },
             "line": {
              "color": "#000039"
             }
            },
            "type": "table"
           }
          ],
          "waterfall": [
           {
            "connector": {
             "line": {
              "color": "#000036",
              "width": 2
             }
            },
            "decreasing": {
             "marker": {
              "color": "#000033"
             }
            },
            "increasing": {
             "marker": {
              "color": "#000032"
             }
            },
            "totals": {
             "marker": {
              "color": "#000034"
             }
            },
            "type": "waterfall"
           }
          ]
         },
         "layout": {
          "coloraxis": {
           "colorscale": [
            [
             0,
             "#000011"
            ],
            [
             0.1111111111111111,
             "#000012"
            ],
            [
             0.2222222222222222,
             "#000013"
            ],
            [
             0.3333333333333333,
             "#000014"
            ],
            [
             0.4444444444444444,
             "#000015"
            ],
            [
             0.5555555555555556,
             "#000016"
            ],
            [
             0.6666666666666666,
             "#000017"
            ],
            [
             0.7777777777777778,
             "#000018"
            ],
            [
             0.8888888888888888,
             "#000019"
            ],
            [
             1,
             "#000020"
            ]
           ]
          },
          "colorscale": {
           "diverging": [
            [
             0,
             "#000021"
            ],
            [
             0.1,
             "#000022"
            ],
            [
             0.2,
             "#000023"
            ],
            [
             0.3,
             "#000024"
            ],
            [
             0.4,
             "#000025"
            ],
            [
             0.5,
             "#000026"
            ],
            [
             0.6,
             "#000027"
            ],
            [
             0.7,
             "#000028"
            ],
            [
             0.8,
             "#000029"
            ],
            [
             0.9,
             "#000030"
            ],
            [
             1,
             "#000031"
            ]
           ],
           "sequential": [
            [
             0,
             "#000011"
            ],
            [
             0.1111111111111111,
             "#000012"
            ],
            [
             0.2222222222222222,
             "#000013"
            ],
            [
             0.3333333333333333,
             "#000014"
            ],
            [
             0.4444444444444444,
             "#000015"
            ],
            [
             0.5555555555555556,
             "#000016"
            ],
            [
             0.6666666666666666,
             "#000017"
            ],
            [
             0.7777777777777778,
             "#000018"
            ],
            [
             0.8888888888888888,
             "#000019"
            ],
            [
             1,
             "#000020"
            ]
           ],
           "sequentialminus": [
            [
             0,
             "#000011"
            ],
            [
             0.1111111111111111,
             "#000012"
            ],
            [
             0.2222222222222222,
             "#000013"
            ],
            [
             0.3333333333333333,
             "#000014"
            ],
            [
             0.4444444444444444,
             "#000015"
            ],
            [
             0.5555555555555556,
             "#000016"
            ],
            [
             0.6666666666666666,
             "#000017"
            ],
            [
             0.7777777777777778,
             "#000018"
            ],
            [
             0.8888888888888888,
             "#000019"
            ],
            [
             1,
             "#000020"
            ]
           ]
          },
          "colorway": [
           "#000001",
           "#000002",
           "#000003",
           "#000004",
           "#000005",
           "#000006",
           "#000007",
           "#000008",
           "#000009",
           "#000010"
          ]
         }
        },
        "title": {
         "text": "Correlación con Average_Price"
        },
        "xaxis": {
         "anchor": "y",
         "domain": [
          0,
          1
         ],
         "title": {
          "text": "index"
         }
        },
        "yaxis": {
         "anchor": "x",
         "domain": [
          0,
          1
         ],
         "title": {
          "text": "Average_Price"
         }
        }
       }
      }
     },
     "metadata": {},
     "output_type": "display_data"
    }
   ],
   "source": [
    "corr_bar(data_raw)"
   ]
  },
  {
   "cell_type": "code",
   "execution_count": 49,
   "metadata": {},
   "outputs": [
    {
     "data": {
      "text/plain": [
       "Average_Price         1.000000\n",
       "Michelin              0.591766\n",
       "Numero_awards         0.545974\n",
       "Ambience_rating       0.258650\n",
       "Food_rating           0.217841\n",
       "Service_rating        0.198062\n",
       "Reservas_last_week    0.088026\n",
       "Reservas_today        0.054782\n",
       "Review_count          0.012273\n",
       "Rating_count          0.006064\n",
       "Name: Average_Price, dtype: float64"
      ]
     },
     "execution_count": 49,
     "metadata": {},
     "output_type": "execute_result"
    }
   ],
   "source": [
    "data_raw.corr()[\"Average_Price\"].sort_values(ascending=False)"
   ]
  },
  {
   "cell_type": "code",
   "execution_count": 45,
   "metadata": {},
   "outputs": [
    {
     "data": {
      "text/plain": [
       "<AxesSubplot:>"
      ]
     },
     "execution_count": 45,
     "metadata": {},
     "output_type": "execute_result"
    },
    {
     "data": {
      "image/png": "[encoded data removed]",
      "text/plain": [
       "<Figure size 640x480 with 2 Axes>"
      ]
     },
     "metadata": {},
     "output_type": "display_data"
    }
   ],
   "source": [
    "sns.heatmap(data_raw.corr())"
   ]
  },
  {
   "cell_type": "code",
   "execution_count": null,
   "metadata": {},
   "outputs": [],
   "source": []
  }
 ],
 "metadata": {
  "kernelspec": {
   "display_name": "Python 3",
   "language": "python",
   "name": "python3"
  },
  "language_info": {
   "codemirror_mode": {
    "name": "ipython",
    "version": 3
   },
   "file_extension": ".py",
   "mimetype": "text/x-python",
   "name": "python",
   "nbconvert_exporter": "python",
   "pygments_lexer": "ipython3",
   "version": "3.7.4"
  }
 },
 "nbformat": 4,
 "nbformat_minor": 2
}
