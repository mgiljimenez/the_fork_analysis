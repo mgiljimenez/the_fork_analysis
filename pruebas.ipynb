{
 "cells": [
  {
   "cell_type": "code",
   "execution_count": 1,
   "metadata": {},
   "outputs": [],
   "source": [
    "import pandas as pd\n",
    "from webconfig import tipos_comida_chart\n",
    "import plotly.express as px"
   ]
  },
  {
   "cell_type": "code",
   "execution_count": 2,
   "metadata": {},
   "outputs": [],
   "source": [
    "data=pd.read_csv(\"./data_restaurantes_definitivo.csv\", sep=\";\", encoding=\"utf-8\")\n",
    "provincia_input=\"sevilla\""
   ]
  },
  {
   "cell_type": "code",
   "execution_count": 3,
   "metadata": {},
   "outputs": [
    {
     "name": "stdout",
     "output_type": "stream",
     "text": [
      "Correlación entre la media de los precios medios y el salario medio anual por provincia: 0.4290989404601027\n"
     ]
    }
   ],
   "source": [
    "# Primero, calculamos la media de los precios medios por provincia\n",
    "media_precios_por_provincia = data.groupby('Provincia')['Average_Price'].mean()\n",
    "# Luego, calculamos el salario medio anual por provincia\n",
    "salario_medio_por_provincia = data.groupby('Provincia')['Salario Medio Anual'].mean()\n",
    "# Finalmente, calculamos la correlación entre estas dos series de datos\n",
    "correlacion_media_precios_salario = media_precios_por_provincia.corr(salario_medio_por_provincia)\n",
    "# Mostramos el resultado\n",
    "print(\"Correlación entre la media de los precios medios y el salario medio anual por provincia:\", correlacion_media_precios_salario)"
   ]
  }
 ],
 "metadata": {
  "kernelspec": {
   "display_name": "Python 3",
   "language": "python",
   "name": "python3"
  },
  "language_info": {
   "codemirror_mode": {
    "name": "ipython",
    "version": 3
   },
   "file_extension": ".py",
   "mimetype": "text/x-python",
   "name": "python",
   "nbconvert_exporter": "python",
   "pygments_lexer": "ipython3",
   "version": "3.7.4"
  }
 },
 "nbformat": 4,
 "nbformat_minor": 2
}
